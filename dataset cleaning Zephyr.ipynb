{
 "cells": [
  {
   "cell_type": "code",
   "execution_count": 1,
   "id": "317f8e70",
   "metadata": {},
   "outputs": [],
   "source": [
    "import pandas as pd\n",
    "import csv\n",
    "import seaborn as sns\n",
    "import matplotlib as plt"
   ]
  },
  {
   "cell_type": "code",
   "execution_count": 3,
   "id": "61b22ff0",
   "metadata": {},
   "outputs": [
    {
     "name": "stderr",
     "output_type": "stream",
     "text": [
      "C:\\Users\\DEBASHISH THAKUR\\anaconda3\\lib\\site-packages\\IPython\\core\\interactiveshell.py:3165: DtypeWarning: Columns (8,12,13,14,15,16,50,51,52,53,55,56,57,58,59,60,61,62,63,64,65,66,67,68,69,70,71,72,73,74,75,76,77,78,79,80,81,82,83,84,85,93,94,95,96,97,98,99,100,101,102,103,104,105,106,107,108,109,110,111,112,113,114,115,116,117,118,119,120,121,122,123,124,125,126,127,128) have mixed types.Specify dtype option on import or set low_memory=False.\n",
      "  has_raised = await self.run_ast_nodes(code_ast.body, cell_name,\n"
     ]
    },
    {
     "data": {
      "text/html": [
       "<div>\n",
       "<style scoped>\n",
       "    .dataframe tbody tr th:only-of-type {\n",
       "        vertical-align: middle;\n",
       "    }\n",
       "\n",
       "    .dataframe tbody tr th {\n",
       "        vertical-align: top;\n",
       "    }\n",
       "\n",
       "    .dataframe thead th {\n",
       "        text-align: right;\n",
       "    }\n",
       "</style>\n",
       "<table border=\"1\" class=\"dataframe\">\n",
       "  <thead>\n",
       "    <tr style=\"text-align: right;\">\n",
       "      <th></th>\n",
       "      <th>DevType</th>\n",
       "      <th>YearsCoding</th>\n",
       "      <th>LanguageWorkedWith</th>\n",
       "      <th>ConvertedSalary</th>\n",
       "      <th>Country</th>\n",
       "    </tr>\n",
       "  </thead>\n",
       "  <tbody>\n",
       "    <tr>\n",
       "      <th>1</th>\n",
       "      <td>Database administrator;DevOps specialist;Full-...</td>\n",
       "      <td>30 or more years</td>\n",
       "      <td>JavaScript;Python;Bash/Shell</td>\n",
       "      <td>70841.0</td>\n",
       "      <td>United Kingdom</td>\n",
       "    </tr>\n",
       "    <tr>\n",
       "      <th>4</th>\n",
       "      <td>Data or business analyst;Desktop or enterprise...</td>\n",
       "      <td>6-8 years</td>\n",
       "      <td>C;C++;Java;Matlab;R;SQL;Bash/Shell</td>\n",
       "      <td>21426.0</td>\n",
       "      <td>South Africa</td>\n",
       "    </tr>\n",
       "    <tr>\n",
       "      <th>5</th>\n",
       "      <td>Back-end developer;Database administrator;Fron...</td>\n",
       "      <td>6-8 years</td>\n",
       "      <td>Java;JavaScript;Python;TypeScript;HTML;CSS</td>\n",
       "      <td>41671.0</td>\n",
       "      <td>United Kingdom</td>\n",
       "    </tr>\n",
       "    <tr>\n",
       "      <th>6</th>\n",
       "      <td>Back-end developer;Front-end developer;Full-st...</td>\n",
       "      <td>9-11 years</td>\n",
       "      <td>JavaScript;HTML;CSS</td>\n",
       "      <td>120000.0</td>\n",
       "      <td>United States</td>\n",
       "    </tr>\n",
       "    <tr>\n",
       "      <th>8</th>\n",
       "      <td>Back-end developer;C-suite executive (CEO, CTO...</td>\n",
       "      <td>30 or more years</td>\n",
       "      <td>Assembly;CoffeeScript;Erlang;Go;JavaScript;Lua...</td>\n",
       "      <td>250000.0</td>\n",
       "      <td>United States</td>\n",
       "    </tr>\n",
       "    <tr>\n",
       "      <th>...</th>\n",
       "      <td>...</td>\n",
       "      <td>...</td>\n",
       "      <td>...</td>\n",
       "      <td>...</td>\n",
       "      <td>...</td>\n",
       "    </tr>\n",
       "    <tr>\n",
       "      <th>89938</th>\n",
       "      <td>Back-end developer;Student</td>\n",
       "      <td>3-5 years</td>\n",
       "      <td>C;C++;C#;Java;PHP;Python;SQL;VB.NET;Visual Bas...</td>\n",
       "      <td>1944.0</td>\n",
       "      <td>India</td>\n",
       "    </tr>\n",
       "    <tr>\n",
       "      <th>89941</th>\n",
       "      <td>Back-end developer;Student</td>\n",
       "      <td>3-5 years</td>\n",
       "      <td>Assembly;C;C++;C#;PHP;HTML;CSS;Bash/Shell</td>\n",
       "      <td>0.0</td>\n",
       "      <td>Czech Republic</td>\n",
       "    </tr>\n",
       "    <tr>\n",
       "      <th>89954</th>\n",
       "      <td>Student</td>\n",
       "      <td>3-5 years</td>\n",
       "      <td>Assembly;C;Haskell;Java;Lua;Python</td>\n",
       "      <td>10284.0</td>\n",
       "      <td>Germany</td>\n",
       "    </tr>\n",
       "    <tr>\n",
       "      <th>89960</th>\n",
       "      <td>Student</td>\n",
       "      <td>6-8 years</td>\n",
       "      <td>C++;Java;JavaScript;SQL;HTML;CSS;Bash/Shell</td>\n",
       "      <td>0.0</td>\n",
       "      <td>South Korea</td>\n",
       "    </tr>\n",
       "    <tr>\n",
       "      <th>89965</th>\n",
       "      <td>Back-end developer;Student</td>\n",
       "      <td>3-5 years</td>\n",
       "      <td>C;C++;C#;Java;JavaScript;PHP;SQL;HTML;CSS</td>\n",
       "      <td>0.0</td>\n",
       "      <td>India</td>\n",
       "    </tr>\n",
       "  </tbody>\n",
       "</table>\n",
       "<p>46146 rows × 5 columns</p>\n",
       "</div>"
      ],
      "text/plain": [
       "                                                 DevType       YearsCoding  \\\n",
       "1      Database administrator;DevOps specialist;Full-...  30 or more years   \n",
       "4      Data or business analyst;Desktop or enterprise...         6-8 years   \n",
       "5      Back-end developer;Database administrator;Fron...         6-8 years   \n",
       "6      Back-end developer;Front-end developer;Full-st...        9-11 years   \n",
       "8      Back-end developer;C-suite executive (CEO, CTO...  30 or more years   \n",
       "...                                                  ...               ...   \n",
       "89938                         Back-end developer;Student         3-5 years   \n",
       "89941                         Back-end developer;Student         3-5 years   \n",
       "89954                                            Student         3-5 years   \n",
       "89960                                            Student         6-8 years   \n",
       "89965                         Back-end developer;Student         3-5 years   \n",
       "\n",
       "                                      LanguageWorkedWith  ConvertedSalary  \\\n",
       "1                           JavaScript;Python;Bash/Shell          70841.0   \n",
       "4                     C;C++;Java;Matlab;R;SQL;Bash/Shell          21426.0   \n",
       "5             Java;JavaScript;Python;TypeScript;HTML;CSS          41671.0   \n",
       "6                                    JavaScript;HTML;CSS         120000.0   \n",
       "8      Assembly;CoffeeScript;Erlang;Go;JavaScript;Lua...         250000.0   \n",
       "...                                                  ...              ...   \n",
       "89938  C;C++;C#;Java;PHP;Python;SQL;VB.NET;Visual Bas...           1944.0   \n",
       "89941          Assembly;C;C++;C#;PHP;HTML;CSS;Bash/Shell              0.0   \n",
       "89954                 Assembly;C;Haskell;Java;Lua;Python          10284.0   \n",
       "89960        C++;Java;JavaScript;SQL;HTML;CSS;Bash/Shell              0.0   \n",
       "89965          C;C++;C#;Java;JavaScript;PHP;SQL;HTML;CSS              0.0   \n",
       "\n",
       "              Country  \n",
       "1      United Kingdom  \n",
       "4        South Africa  \n",
       "5      United Kingdom  \n",
       "6       United States  \n",
       "8       United States  \n",
       "...               ...  \n",
       "89938           India  \n",
       "89941  Czech Republic  \n",
       "89954         Germany  \n",
       "89960     South Korea  \n",
       "89965           India  \n",
       "\n",
       "[46146 rows x 5 columns]"
      ]
     },
     "execution_count": 3,
     "metadata": {},
     "output_type": "execute_result"
    }
   ],
   "source": [
    "dataset = 'C:/Users/DEBASHISH THAKUR/Desktop/Zephyr internship/survey_results_public.csv'\n",
    "df_job = pd.read_csv(dataset)\n",
    "cols = [9,10,65,54,3]\n",
    "df = pd.DataFrame(df_job)\n",
    "df = df[df.columns[cols]]\n",
    "new_df = df.dropna()\n",
    "new_df\n",
    "    \n",
    "\n"
   ]
  },
  {
   "cell_type": "code",
   "execution_count": 4,
   "id": "adcf2968",
   "metadata": {},
   "outputs": [
    {
     "data": {
      "text/plain": [
       "DevType               0\n",
       "YearsCoding           0\n",
       "LanguageWorkedWith    0\n",
       "ConvertedSalary       0\n",
       "Country               0\n",
       "dtype: int64"
      ]
     },
     "execution_count": 4,
     "metadata": {},
     "output_type": "execute_result"
    }
   ],
   "source": [
    "new_df.isna().sum()"
   ]
  },
  {
   "cell_type": "code",
   "execution_count": 5,
   "id": "6a0172e2",
   "metadata": {},
   "outputs": [
    {
     "data": {
      "text/html": [
       "<div>\n",
       "<style scoped>\n",
       "    .dataframe tbody tr th:only-of-type {\n",
       "        vertical-align: middle;\n",
       "    }\n",
       "\n",
       "    .dataframe tbody tr th {\n",
       "        vertical-align: top;\n",
       "    }\n",
       "\n",
       "    .dataframe thead th {\n",
       "        text-align: right;\n",
       "    }\n",
       "</style>\n",
       "<table border=\"1\" class=\"dataframe\">\n",
       "  <thead>\n",
       "    <tr style=\"text-align: right;\">\n",
       "      <th></th>\n",
       "      <th>DevType</th>\n",
       "      <th>YearsCoding</th>\n",
       "      <th>LanguageWorkedWith</th>\n",
       "      <th>ConvertedSalary</th>\n",
       "      <th>Country</th>\n",
       "    </tr>\n",
       "  </thead>\n",
       "  <tbody>\n",
       "    <tr>\n",
       "      <th>1</th>\n",
       "      <td>Database administrator;DevOps specialist;Full-...</td>\n",
       "      <td>30 or more years</td>\n",
       "      <td>JavaScript;Python;Bash/Shell</td>\n",
       "      <td>70841.0</td>\n",
       "      <td>United Kingdom</td>\n",
       "    </tr>\n",
       "    <tr>\n",
       "      <th>4</th>\n",
       "      <td>Data or business analyst;Desktop or enterprise...</td>\n",
       "      <td>6-8 years</td>\n",
       "      <td>C;C++;Java;Matlab;R;SQL;Bash/Shell</td>\n",
       "      <td>21426.0</td>\n",
       "      <td>South Africa</td>\n",
       "    </tr>\n",
       "    <tr>\n",
       "      <th>5</th>\n",
       "      <td>Back-end developer;Database administrator;Fron...</td>\n",
       "      <td>6-8 years</td>\n",
       "      <td>Java;JavaScript;Python;TypeScript;HTML;CSS</td>\n",
       "      <td>41671.0</td>\n",
       "      <td>United Kingdom</td>\n",
       "    </tr>\n",
       "    <tr>\n",
       "      <th>6</th>\n",
       "      <td>Back-end developer;Front-end developer;Full-st...</td>\n",
       "      <td>9-11 years</td>\n",
       "      <td>JavaScript;HTML;CSS</td>\n",
       "      <td>120000.0</td>\n",
       "      <td>United States</td>\n",
       "    </tr>\n",
       "    <tr>\n",
       "      <th>8</th>\n",
       "      <td>Back-end developer;C-suite executive (CEO, CTO...</td>\n",
       "      <td>30 or more years</td>\n",
       "      <td>Assembly;CoffeeScript;Erlang;Go;JavaScript;Lua...</td>\n",
       "      <td>250000.0</td>\n",
       "      <td>United States</td>\n",
       "    </tr>\n",
       "    <tr>\n",
       "      <th>...</th>\n",
       "      <td>...</td>\n",
       "      <td>...</td>\n",
       "      <td>...</td>\n",
       "      <td>...</td>\n",
       "      <td>...</td>\n",
       "    </tr>\n",
       "    <tr>\n",
       "      <th>89938</th>\n",
       "      <td>Back-end developer;Student</td>\n",
       "      <td>3-5 years</td>\n",
       "      <td>C;C++;C#;Java;PHP;Python;SQL;VB.NET;Visual Bas...</td>\n",
       "      <td>1944.0</td>\n",
       "      <td>India</td>\n",
       "    </tr>\n",
       "    <tr>\n",
       "      <th>89941</th>\n",
       "      <td>Back-end developer;Student</td>\n",
       "      <td>3-5 years</td>\n",
       "      <td>Assembly;C;C++;C#;PHP;HTML;CSS;Bash/Shell</td>\n",
       "      <td>0.0</td>\n",
       "      <td>Czech Republic</td>\n",
       "    </tr>\n",
       "    <tr>\n",
       "      <th>89954</th>\n",
       "      <td>Student</td>\n",
       "      <td>3-5 years</td>\n",
       "      <td>Assembly;C;Haskell;Java;Lua;Python</td>\n",
       "      <td>10284.0</td>\n",
       "      <td>Germany</td>\n",
       "    </tr>\n",
       "    <tr>\n",
       "      <th>89960</th>\n",
       "      <td>Student</td>\n",
       "      <td>6-8 years</td>\n",
       "      <td>C++;Java;JavaScript;SQL;HTML;CSS;Bash/Shell</td>\n",
       "      <td>0.0</td>\n",
       "      <td>South Korea</td>\n",
       "    </tr>\n",
       "    <tr>\n",
       "      <th>89965</th>\n",
       "      <td>Back-end developer;Student</td>\n",
       "      <td>3-5 years</td>\n",
       "      <td>C;C++;C#;Java;JavaScript;PHP;SQL;HTML;CSS</td>\n",
       "      <td>0.0</td>\n",
       "      <td>India</td>\n",
       "    </tr>\n",
       "  </tbody>\n",
       "</table>\n",
       "<p>46146 rows × 5 columns</p>\n",
       "</div>"
      ],
      "text/plain": [
       "                                                 DevType       YearsCoding  \\\n",
       "1      Database administrator;DevOps specialist;Full-...  30 or more years   \n",
       "4      Data or business analyst;Desktop or enterprise...         6-8 years   \n",
       "5      Back-end developer;Database administrator;Fron...         6-8 years   \n",
       "6      Back-end developer;Front-end developer;Full-st...        9-11 years   \n",
       "8      Back-end developer;C-suite executive (CEO, CTO...  30 or more years   \n",
       "...                                                  ...               ...   \n",
       "89938                         Back-end developer;Student         3-5 years   \n",
       "89941                         Back-end developer;Student         3-5 years   \n",
       "89954                                            Student         3-5 years   \n",
       "89960                                            Student         6-8 years   \n",
       "89965                         Back-end developer;Student         3-5 years   \n",
       "\n",
       "                                      LanguageWorkedWith  ConvertedSalary  \\\n",
       "1                           JavaScript;Python;Bash/Shell          70841.0   \n",
       "4                     C;C++;Java;Matlab;R;SQL;Bash/Shell          21426.0   \n",
       "5             Java;JavaScript;Python;TypeScript;HTML;CSS          41671.0   \n",
       "6                                    JavaScript;HTML;CSS         120000.0   \n",
       "8      Assembly;CoffeeScript;Erlang;Go;JavaScript;Lua...         250000.0   \n",
       "...                                                  ...              ...   \n",
       "89938  C;C++;C#;Java;PHP;Python;SQL;VB.NET;Visual Bas...           1944.0   \n",
       "89941          Assembly;C;C++;C#;PHP;HTML;CSS;Bash/Shell              0.0   \n",
       "89954                 Assembly;C;Haskell;Java;Lua;Python          10284.0   \n",
       "89960        C++;Java;JavaScript;SQL;HTML;CSS;Bash/Shell              0.0   \n",
       "89965          C;C++;C#;Java;JavaScript;PHP;SQL;HTML;CSS              0.0   \n",
       "\n",
       "              Country  \n",
       "1      United Kingdom  \n",
       "4        South Africa  \n",
       "5      United Kingdom  \n",
       "6       United States  \n",
       "8       United States  \n",
       "...               ...  \n",
       "89938           India  \n",
       "89941  Czech Republic  \n",
       "89954         Germany  \n",
       "89960     South Korea  \n",
       "89965           India  \n",
       "\n",
       "[46146 rows x 5 columns]"
      ]
     },
     "metadata": {},
     "output_type": "display_data"
    }
   ],
   "source": [
    "display(df_j)"
   ]
  },
  {
   "cell_type": "code",
   "execution_count": 4,
   "id": "7d329ff6",
   "metadata": {},
   "outputs": [
    {
     "name": "stderr",
     "output_type": "stream",
     "text": [
      "C:\\Users\\DEBASHISH THAKUR\\anaconda3\\lib\\site-packages\\seaborn\\distributions.py:2557: FutureWarning: `distplot` is a deprecated function and will be removed in a future version. Please adapt your code to use either `displot` (a figure-level function with similar flexibility) or `histplot` (an axes-level function for histograms).\n",
      "  warnings.warn(msg, FutureWarning)\n"
     ]
    },
    {
     "data": {
      "text/plain": [
       "<AxesSubplot:xlabel='ConvertedSalary', ylabel='Density'>"
      ]
     },
     "execution_count": 4,
     "metadata": {},
     "output_type": "execute_result"
    },
    {
     "data": {
      "image/png": "[encoded data removed]",
      "text/plain": [
       "<Figure size 432x288 with 1 Axes>"
      ]
     },
     "metadata": {
      "needs_background": "light"
     },
     "output_type": "display_data"
    }
   ],
   "source": [
    "sns.distplot(new_df['ConvertedSalary'])"
   ]
  },
  {
   "cell_type": "code",
   "execution_count": 13,
   "id": "af5f94d9",
   "metadata": {},
   "outputs": [
    {
     "name": "stderr",
     "output_type": "stream",
     "text": [
      "C:\\Users\\DEBASHISH THAKUR\\anaconda3\\lib\\site-packages\\seaborn\\_decorators.py:36: FutureWarning: Pass the following variables as keyword args: x, y. From version 0.12, the only valid positional argument will be `data`, and passing other arguments without an explicit keyword will result in an error or misinterpretation.\n",
      "  warnings.warn(\n"
     ]
    },
    {
     "data": {
      "text/plain": [
       "<seaborn.axisgrid.JointGrid at 0x24aa72214f0>"
      ]
     },
     "execution_count": 13,
     "metadata": {},
     "output_type": "execute_result"
    },
    {
     "data": {
      "image/png": "[encoded data removed]",
      "text/plain": [
       "<Figure size 432x432 with 3 Axes>"
      ]
     },
     "metadata": {
      "needs_background": "light"
     },
     "output_type": "display_data"
    }
   ],
   "source": [
    "sns.jointplot(new_df['YearsCoding'],new_df['ConvertedSalary'])"
   ]
  },
  {
   "cell_type": "code",
   "execution_count": null,
   "id": "898a5998",
   "metadata": {},
   "outputs": [],
   "source": []
  }
 ],
 "metadata": {
  "kernelspec": {
   "display_name": "Python 3",
   "language": "python",
   "name": "python3"
  },
  "language_info": {
   "codemirror_mode": {
    "name": "ipython",
    "version": 3
   },
   "file_extension": ".py",
   "mimetype": "text/x-python",
   "name": "python",
   "nbconvert_exporter": "python",
   "pygments_lexer": "ipython3",
   "version": "3.8.8"
  }
 },
 "nbformat": 4,
 "nbformat_minor": 5
}
